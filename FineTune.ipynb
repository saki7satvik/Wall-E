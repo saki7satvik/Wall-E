{
 "cells": [
  {
   "cell_type": "code",
   "execution_count": 1,
   "metadata": {},
   "outputs": [
    {
     "name": "stderr",
     "output_type": "stream",
     "text": [
      "Cloning into 'yolov5'...\n"
     ]
    }
   ],
   "source": [
    "!git clone https://github.com/ultralytics/yolov5.git"
   ]
  },
  {
   "cell_type": "code",
   "execution_count": 3,
   "metadata": {},
   "outputs": [
    {
     "name": "stdout",
     "output_type": "stream",
     "text": [
      "[WinError 2] The system cannot find the file specified: 'yolov5/'\n",
      "d:\\wallE\\human detection\\yolov5\n"
     ]
    },
    {
     "name": "stderr",
     "output_type": "stream",
     "text": [
      "d:\\wallE\\human detection\\myenv\\Lib\\site-packages\\IPython\\core\\magics\\osm.py:393: UserWarning: This is now an optional IPython functionality, using bookmarks requires you to install the `pickleshare` library.\n",
      "  bkms = self.shell.db.get('bookmarks', {})\n",
      "\n",
      "[notice] A new release of pip is available: 24.2 -> 24.3.1\n",
      "[notice] To update, run: python.exe -m pip install --upgrade pip\n"
     ]
    }
   ],
   "source": [
    "%cd yolov5/\n",
    "\n",
    "!pip install -qr requirements.txt"
   ]
  },
  {
   "cell_type": "code",
   "execution_count": 4,
   "metadata": {},
   "outputs": [
    {
     "name": "stdout",
     "output_type": "stream",
     "text": [
      "Collecting roboflow\n",
      "  Using cached roboflow-1.1.49-py3-none-any.whl.metadata (9.7 kB)\n",
      "Requirement already satisfied: certifi in d:\\walle\\human detection\\myenv\\lib\\site-packages (from roboflow) (2024.8.30)\n",
      "Collecting idna==3.7 (from roboflow)\n",
      "  Using cached idna-3.7-py3-none-any.whl.metadata (9.9 kB)\n",
      "Requirement already satisfied: cycler in d:\\walle\\human detection\\myenv\\lib\\site-packages (from roboflow) (0.12.1)\n",
      "Requirement already satisfied: kiwisolver>=1.3.1 in d:\\walle\\human detection\\myenv\\lib\\site-packages (from roboflow) (1.4.7)\n",
      "Requirement already satisfied: matplotlib in d:\\walle\\human detection\\myenv\\lib\\site-packages (from roboflow) (3.9.3)\n",
      "Requirement already satisfied: numpy>=1.18.5 in d:\\walle\\human detection\\myenv\\lib\\site-packages (from roboflow) (2.1.3)\n",
      "Collecting opencv-python-headless==4.10.0.84 (from roboflow)\n",
      "  Using cached opencv_python_headless-4.10.0.84-cp37-abi3-win_amd64.whl.metadata (20 kB)\n",
      "Requirement already satisfied: Pillow>=7.1.2 in d:\\walle\\human detection\\myenv\\lib\\site-packages (from roboflow) (11.0.0)\n",
      "Requirement already satisfied: python-dateutil in d:\\walle\\human detection\\myenv\\lib\\site-packages (from roboflow) (2.9.0.post0)\n",
      "Collecting python-dotenv (from roboflow)\n",
      "  Using cached python_dotenv-1.0.1-py3-none-any.whl.metadata (23 kB)\n",
      "Requirement already satisfied: requests in d:\\walle\\human detection\\myenv\\lib\\site-packages (from roboflow) (2.32.3)\n",
      "Requirement already satisfied: six in d:\\walle\\human detection\\myenv\\lib\\site-packages (from roboflow) (1.17.0)\n",
      "Requirement already satisfied: urllib3>=1.26.6 in d:\\walle\\human detection\\myenv\\lib\\site-packages (from roboflow) (2.2.3)\n",
      "Requirement already satisfied: tqdm>=4.41.0 in d:\\walle\\human detection\\myenv\\lib\\site-packages (from roboflow) (4.67.1)\n",
      "Requirement already satisfied: PyYAML>=5.3.1 in d:\\walle\\human detection\\myenv\\lib\\site-packages (from roboflow) (6.0.2)\n",
      "Collecting requests-toolbelt (from roboflow)\n",
      "  Using cached requests_toolbelt-1.0.0-py2.py3-none-any.whl.metadata (14 kB)\n",
      "Collecting filetype (from roboflow)\n",
      "  Using cached filetype-1.2.0-py2.py3-none-any.whl.metadata (6.5 kB)\n",
      "Requirement already satisfied: colorama in d:\\walle\\human detection\\myenv\\lib\\site-packages (from tqdm>=4.41.0->roboflow) (0.4.6)\n",
      "Requirement already satisfied: contourpy>=1.0.1 in d:\\walle\\human detection\\myenv\\lib\\site-packages (from matplotlib->roboflow) (1.3.1)\n",
      "Requirement already satisfied: fonttools>=4.22.0 in d:\\walle\\human detection\\myenv\\lib\\site-packages (from matplotlib->roboflow) (4.55.2)\n",
      "Requirement already satisfied: packaging>=20.0 in d:\\walle\\human detection\\myenv\\lib\\site-packages (from matplotlib->roboflow) (24.2)\n",
      "Requirement already satisfied: pyparsing>=2.3.1 in d:\\walle\\human detection\\myenv\\lib\\site-packages (from matplotlib->roboflow) (3.2.0)\n",
      "Requirement already satisfied: charset-normalizer<4,>=2 in d:\\walle\\human detection\\myenv\\lib\\site-packages (from requests->roboflow) (3.4.0)\n",
      "Using cached roboflow-1.1.49-py3-none-any.whl (80 kB)\n",
      "Using cached idna-3.7-py3-none-any.whl (66 kB)\n",
      "Using cached opencv_python_headless-4.10.0.84-cp37-abi3-win_amd64.whl (38.8 MB)\n",
      "Using cached filetype-1.2.0-py2.py3-none-any.whl (19 kB)\n",
      "Using cached python_dotenv-1.0.1-py3-none-any.whl (19 kB)\n",
      "Using cached requests_toolbelt-1.0.0-py2.py3-none-any.whl (54 kB)\n",
      "Installing collected packages: filetype, python-dotenv, opencv-python-headless, idna, requests-toolbelt, roboflow\n",
      "  Attempting uninstall: idna\n",
      "    Found existing installation: idna 3.10\n",
      "    Uninstalling idna-3.10:\n",
      "      Successfully uninstalled idna-3.10\n",
      "Successfully installed filetype-1.2.0 idna-3.7 opencv-python-headless-4.10.0.84 python-dotenv-1.0.1 requests-toolbelt-1.0.0 roboflow-1.1.49\n"
     ]
    },
    {
     "name": "stderr",
     "output_type": "stream",
     "text": [
      "\n",
      "[notice] A new release of pip is available: 24.2 -> 24.3.1\n",
      "[notice] To update, run: python.exe -m pip install --upgrade pip\n"
     ]
    }
   ],
   "source": [
    "!pip install roboflow"
   ]
  },
  {
   "cell_type": "code",
   "execution_count": 5,
   "metadata": {},
   "outputs": [
    {
     "name": "stdout",
     "output_type": "stream",
     "text": [
      "loading Roboflow workspace...\n",
      "loading Roboflow project...\n"
     ]
    },
    {
     "name": "stderr",
     "output_type": "stream",
     "text": [
      "Downloading Dataset Version Zip in stapler-detection-1 to yolov11:: 100%|██████████| 496/496 [00:01<00:00, 423.79it/s]"
     ]
    },
    {
     "name": "stdout",
     "output_type": "stream",
     "text": [
      "\n"
     ]
    },
    {
     "name": "stderr",
     "output_type": "stream",
     "text": [
      "\n",
      "Extracting Dataset Version Zip to stapler-detection-1 in yolov11:: 100%|██████████| 42/42 [00:00<00:00, 1043.93it/s]\n"
     ]
    }
   ],
   "source": [
    "from roboflow import Roboflow\n",
    "rf = Roboflow(api_key=\"tuqccVXoe3ufdZ49SR9u\")\n",
    "project = rf.workspace(\"saki7satvik\").project(\"stapler-detection-fabl9\")\n",
    "version = project.version(1)\n",
    "dataset = version.download(\"yolov11\")"
   ]
  },
  {
   "cell_type": "code",
   "execution_count": 6,
   "metadata": {},
   "outputs": [
    {
     "name": "stdout",
     "output_type": "stream",
     "text": [
      "d:\\wallE\\human detection\n"
     ]
    },
    {
     "name": "stderr",
     "output_type": "stream",
     "text": [
      "This is now an optional IPython functionality, setting dhist requires you to install the `pickleshare` library.\n"
     ]
    }
   ],
   "source": [
    "%cd .."
   ]
  },
  {
   "cell_type": "code",
   "execution_count": 7,
   "metadata": {},
   "outputs": [
    {
     "name": "stdout",
     "output_type": "stream",
     "text": [
      "loading Roboflow workspace...\n",
      "loading Roboflow project...\n"
     ]
    },
    {
     "name": "stderr",
     "output_type": "stream",
     "text": [
      "Downloading Dataset Version Zip in human-detection-1 to yolov11:: 100%|██████████| 864/864 [00:01<00:00, 536.47it/s] "
     ]
    },
    {
     "name": "stdout",
     "output_type": "stream",
     "text": [
      "\n"
     ]
    },
    {
     "name": "stderr",
     "output_type": "stream",
     "text": [
      "\n",
      "Extracting Dataset Version Zip to human-detection-1 in yolov11:: 100%|██████████| 108/108 [00:00<00:00, 1089.40it/s]\n"
     ]
    }
   ],
   "source": [
    "from roboflow import Roboflow\n",
    "rf = Roboflow(api_key=\"tuqccVXoe3ufdZ49SR9u\")\n",
    "project = rf.workspace(\"saki7satvik\").project(\"human-detection-tweib\")\n",
    "version = project.version(1)\n",
    "dataset = version.download(\"yolov11\")"
   ]
  },
  {
   "cell_type": "code",
   "execution_count": 8,
   "metadata": {},
   "outputs": [
    {
     "name": "stdout",
     "output_type": "stream",
     "text": [
      "Collecting git+https://github.com/ultralytics/ultralytics.git\n",
      "  Cloning https://github.com/ultralytics/ultralytics.git to c:\\users\\saki7\\appdata\\local\\temp\\pip-req-build-d9ouxe37\n",
      "  Resolved https://github.com/ultralytics/ultralytics.git to commit e0f8eda366c7cf08a1c311a17eaaaf87914f8012\n",
      "  Installing build dependencies: started\n",
      "  Installing build dependencies: finished with status 'done'\n",
      "  Getting requirements to build wheel: started\n",
      "  Getting requirements to build wheel: finished with status 'done'\n",
      "  Preparing metadata (pyproject.toml): started\n",
      "  Preparing metadata (pyproject.toml): finished with status 'done'\n",
      "Requirement already satisfied: numpy>=1.23.0 in d:\\walle\\human detection\\myenv\\lib\\site-packages (from ultralytics==8.3.48) (2.1.3)\n",
      "Requirement already satisfied: matplotlib>=3.3.0 in d:\\walle\\human detection\\myenv\\lib\\site-packages (from ultralytics==8.3.48) (3.9.3)\n",
      "Requirement already satisfied: opencv-python>=4.6.0 in d:\\walle\\human detection\\myenv\\lib\\site-packages (from ultralytics==8.3.48) (4.10.0.84)\n",
      "Requirement already satisfied: pillow>=7.1.2 in d:\\walle\\human detection\\myenv\\lib\\site-packages (from ultralytics==8.3.48) (11.0.0)\n",
      "Requirement already satisfied: pyyaml>=5.3.1 in d:\\walle\\human detection\\myenv\\lib\\site-packages (from ultralytics==8.3.48) (6.0.2)\n",
      "Requirement already satisfied: requests>=2.23.0 in d:\\walle\\human detection\\myenv\\lib\\site-packages (from ultralytics==8.3.48) (2.32.3)\n",
      "Requirement already satisfied: scipy>=1.4.1 in d:\\walle\\human detection\\myenv\\lib\\site-packages (from ultralytics==8.3.48) (1.14.1)\n",
      "Requirement already satisfied: torch>=1.8.0 in d:\\walle\\human detection\\myenv\\lib\\site-packages (from ultralytics==8.3.48) (2.5.1)\n",
      "Requirement already satisfied: torchvision>=0.9.0 in d:\\walle\\human detection\\myenv\\lib\\site-packages (from ultralytics==8.3.48) (0.20.1)\n",
      "Requirement already satisfied: tqdm>=4.64.0 in d:\\walle\\human detection\\myenv\\lib\\site-packages (from ultralytics==8.3.48) (4.67.1)\n",
      "Requirement already satisfied: psutil in d:\\walle\\human detection\\myenv\\lib\\site-packages (from ultralytics==8.3.48) (6.1.0)\n",
      "Requirement already satisfied: py-cpuinfo in d:\\walle\\human detection\\myenv\\lib\\site-packages (from ultralytics==8.3.48) (9.0.0)\n",
      "Requirement already satisfied: pandas>=1.1.4 in d:\\walle\\human detection\\myenv\\lib\\site-packages (from ultralytics==8.3.48) (2.2.3)\n",
      "Requirement already satisfied: seaborn>=0.11.0 in d:\\walle\\human detection\\myenv\\lib\\site-packages (from ultralytics==8.3.48) (0.13.2)\n",
      "Requirement already satisfied: ultralytics-thop>=2.0.0 in d:\\walle\\human detection\\myenv\\lib\\site-packages (from ultralytics==8.3.48) (2.0.12)\n",
      "Requirement already satisfied: contourpy>=1.0.1 in d:\\walle\\human detection\\myenv\\lib\\site-packages (from matplotlib>=3.3.0->ultralytics==8.3.48) (1.3.1)\n",
      "Requirement already satisfied: cycler>=0.10 in d:\\walle\\human detection\\myenv\\lib\\site-packages (from matplotlib>=3.3.0->ultralytics==8.3.48) (0.12.1)\n",
      "Requirement already satisfied: fonttools>=4.22.0 in d:\\walle\\human detection\\myenv\\lib\\site-packages (from matplotlib>=3.3.0->ultralytics==8.3.48) (4.55.2)\n",
      "Requirement already satisfied: kiwisolver>=1.3.1 in d:\\walle\\human detection\\myenv\\lib\\site-packages (from matplotlib>=3.3.0->ultralytics==8.3.48) (1.4.7)\n",
      "Requirement already satisfied: packaging>=20.0 in d:\\walle\\human detection\\myenv\\lib\\site-packages (from matplotlib>=3.3.0->ultralytics==8.3.48) (24.2)\n",
      "Requirement already satisfied: pyparsing>=2.3.1 in d:\\walle\\human detection\\myenv\\lib\\site-packages (from matplotlib>=3.3.0->ultralytics==8.3.48) (3.2.0)\n",
      "Requirement already satisfied: python-dateutil>=2.7 in d:\\walle\\human detection\\myenv\\lib\\site-packages (from matplotlib>=3.3.0->ultralytics==8.3.48) (2.9.0.post0)\n",
      "Requirement already satisfied: pytz>=2020.1 in d:\\walle\\human detection\\myenv\\lib\\site-packages (from pandas>=1.1.4->ultralytics==8.3.48) (2024.2)\n",
      "Requirement already satisfied: tzdata>=2022.7 in d:\\walle\\human detection\\myenv\\lib\\site-packages (from pandas>=1.1.4->ultralytics==8.3.48) (2024.2)\n",
      "Requirement already satisfied: charset-normalizer<4,>=2 in d:\\walle\\human detection\\myenv\\lib\\site-packages (from requests>=2.23.0->ultralytics==8.3.48) (3.4.0)\n",
      "Requirement already satisfied: idna<4,>=2.5 in d:\\walle\\human detection\\myenv\\lib\\site-packages (from requests>=2.23.0->ultralytics==8.3.48) (3.7)\n",
      "Requirement already satisfied: urllib3<3,>=1.21.1 in d:\\walle\\human detection\\myenv\\lib\\site-packages (from requests>=2.23.0->ultralytics==8.3.48) (2.2.3)\n",
      "Requirement already satisfied: certifi>=2017.4.17 in d:\\walle\\human detection\\myenv\\lib\\site-packages (from requests>=2.23.0->ultralytics==8.3.48) (2024.8.30)\n",
      "Requirement already satisfied: filelock in d:\\walle\\human detection\\myenv\\lib\\site-packages (from torch>=1.8.0->ultralytics==8.3.48) (3.16.1)\n",
      "Requirement already satisfied: typing-extensions>=4.8.0 in d:\\walle\\human detection\\myenv\\lib\\site-packages (from torch>=1.8.0->ultralytics==8.3.48) (4.12.2)\n",
      "Requirement already satisfied: networkx in d:\\walle\\human detection\\myenv\\lib\\site-packages (from torch>=1.8.0->ultralytics==8.3.48) (3.4.2)\n",
      "Requirement already satisfied: jinja2 in d:\\walle\\human detection\\myenv\\lib\\site-packages (from torch>=1.8.0->ultralytics==8.3.48) (3.1.4)\n",
      "Requirement already satisfied: fsspec in d:\\walle\\human detection\\myenv\\lib\\site-packages (from torch>=1.8.0->ultralytics==8.3.48) (2024.10.0)\n",
      "Requirement already satisfied: setuptools in d:\\walle\\human detection\\myenv\\lib\\site-packages (from torch>=1.8.0->ultralytics==8.3.48) (75.6.0)\n",
      "Requirement already satisfied: sympy==1.13.1 in d:\\walle\\human detection\\myenv\\lib\\site-packages (from torch>=1.8.0->ultralytics==8.3.48) (1.13.1)\n",
      "Requirement already satisfied: mpmath<1.4,>=1.1.0 in d:\\walle\\human detection\\myenv\\lib\\site-packages (from sympy==1.13.1->torch>=1.8.0->ultralytics==8.3.48) (1.3.0)\n",
      "Requirement already satisfied: colorama in d:\\walle\\human detection\\myenv\\lib\\site-packages (from tqdm>=4.64.0->ultralytics==8.3.48) (0.4.6)\n",
      "Requirement already satisfied: six>=1.5 in d:\\walle\\human detection\\myenv\\lib\\site-packages (from python-dateutil>=2.7->matplotlib>=3.3.0->ultralytics==8.3.48) (1.17.0)\n",
      "Requirement already satisfied: MarkupSafe>=2.0 in d:\\walle\\human detection\\myenv\\lib\\site-packages (from jinja2->torch>=1.8.0->ultralytics==8.3.48) (3.0.2)\n",
      "Building wheels for collected packages: ultralytics\n",
      "  Building wheel for ultralytics (pyproject.toml): started\n",
      "  Building wheel for ultralytics (pyproject.toml): finished with status 'done'\n",
      "  Created wheel for ultralytics: filename=ultralytics-8.3.48-py3-none-any.whl size=903814 sha256=58cf97316dca83cce3c0df67943ec913ab073faf8db1b0505ede5bd4f1a374a3\n",
      "  Stored in directory: C:\\Users\\saki7\\AppData\\Local\\Temp\\pip-ephem-wheel-cache-z901abr8\\wheels\\07\\0b\\e8\\a9b200841fd9259dec61e092d35594d5de8f3412e26e53cb4d\n",
      "Successfully built ultralytics\n",
      "Installing collected packages: ultralytics\n",
      "  Attempting uninstall: ultralytics\n",
      "    Found existing installation: ultralytics 8.3.44\n",
      "    Uninstalling ultralytics-8.3.44:\n",
      "      Successfully uninstalled ultralytics-8.3.44\n",
      "Successfully installed ultralytics-8.3.48\n"
     ]
    },
    {
     "name": "stderr",
     "output_type": "stream",
     "text": [
      "  Running command git clone --filter=blob:none --quiet https://github.com/ultralytics/ultralytics.git 'C:\\Users\\saki7\\AppData\\Local\\Temp\\pip-req-build-d9ouxe37'\n",
      "\n",
      "[notice] A new release of pip is available: 24.2 -> 24.3.1\n",
      "[notice] To update, run: python.exe -m pip install --upgrade pip\n"
     ]
    }
   ],
   "source": [
    "!pip install git+https://github.com/ultralytics/ultralytics.git"
   ]
  },
  {
   "cell_type": "code",
   "execution_count": null,
   "metadata": {},
   "outputs": [],
   "source": []
  }
 ],
 "metadata": {
  "kernelspec": {
   "display_name": "myenv",
   "language": "python",
   "name": "python3"
  },
  "language_info": {
   "codemirror_mode": {
    "name": "ipython",
    "version": 3
   },
   "file_extension": ".py",
   "mimetype": "text/x-python",
   "name": "python",
   "nbconvert_exporter": "python",
   "pygments_lexer": "ipython3",
   "version": "3.12.6"
  }
 },
 "nbformat": 4,
 "nbformat_minor": 2
}
